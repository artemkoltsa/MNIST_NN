{
 "cells": [
  {
   "cell_type": "code",
   "execution_count": 1,
   "metadata": {},
   "outputs": [
    {
     "name": "stderr",
     "output_type": "stream",
     "text": [
      "Using TensorFlow backend.\n"
     ]
    }
   ],
   "source": [
    "%matplotlib inline\n",
    "import matplotlib.pyplot as plt\n",
    "import keras\n",
    "from keras.datasets import mnist\n",
    "from keras.models import Sequential\n",
    "from keras.layers import Dense, Dropout, Activation\n",
    "from keras.optimizers import RMSprop"
   ]
  },
  {
   "cell_type": "code",
   "execution_count": 2,
   "metadata": {},
   "outputs": [
    {
     "name": "stdout",
     "output_type": "stream",
     "text": [
      "Training size: 60000\n",
      "Test size: 10000\n"
     ]
    }
   ],
   "source": [
    "(x_train, y_train), (x_test, y_test) = mnist.load_data()\n",
    "\n",
    "\n",
    "x_train = x_train.reshape(60000, 784)\n",
    "x_test = x_test.reshape(10000, 784)\n",
    "x_train = x_train.astype('float32')\n",
    "x_test = x_test.astype('float32')\n",
    "x_train /= 255\n",
    "x_test /= 255\n",
    "y_train = keras.utils.to_categorical(y_train, 10)\n",
    "y_test = keras.utils.to_categorical(y_test, 10)\n",
    "\n",
    "print ('Training size:', x_train.shape[0])\n",
    "print ('Test size:', x_test.shape[0])"
   ]
  },
  {
   "cell_type": "code",
   "execution_count": 3,
   "metadata": {},
   "outputs": [
    {
     "data": {
      "image/png": "[encoded data removed]",
      "text/plain": [
       "<Figure size 1440x1080 with 5 Axes>"
      ]
     },
     "metadata": {
      "needs_background": "light"
     },
     "output_type": "display_data"
    }
   ],
   "source": [
    "fig, axes = plt.subplots(1, 5, figsize=(20,15))\n",
    "axes = axes.flatten()\n",
    "for img, ax in zip(x_train[:5].reshape((-1,28,28)), axes):\n",
    "    ax.imshow(img, cmap=\"Greys\")\n",
    "plt.tight_layout()\n",
    "plt.show()"
   ]
  },
  {
   "cell_type": "code",
   "execution_count": 4,
   "metadata": {},
   "outputs": [
    {
     "data": {
      "text/plain": [
       "784"
      ]
     },
     "execution_count": 4,
     "metadata": {},
     "output_type": "execute_result"
    }
   ],
   "source": [
    "x_train.shape[1]"
   ]
  },
  {
   "cell_type": "code",
   "execution_count": 5,
   "metadata": {},
   "outputs": [],
   "source": [
    "num = 10\n",
    "\n",
    "batch_size = 50\n",
    "epochs = 6"
   ]
  },
  {
   "cell_type": "code",
   "execution_count": 6,
   "metadata": {},
   "outputs": [
    {
     "name": "stdout",
     "output_type": "stream",
     "text": [
      "dense_1 (None, 784) ==> (None, 500)\n",
      "dropout_1 (None, 500) ==> (None, 500)\n",
      "dense_2 (None, 500) ==> (None, 400)\n",
      "dropout_2 (None, 400) ==> (None, 400)\n",
      "dense_3 (None, 400) ==> (None, 100)\n",
      "dropout_3 (None, 100) ==> (None, 100)\n",
      "dense_4 (None, 100) ==> (None, 10)\n",
      "Model: \"sequential_1\"\n",
      "_________________________________________________________________\n",
      "Layer (type)                 Output Shape              Param #   \n",
      "=================================================================\n",
      "dense_1 (Dense)              (None, 500)               392500    \n",
      "_________________________________________________________________\n",
      "dropout_1 (Dropout)          (None, 500)               0         \n",
      "_________________________________________________________________\n",
      "dense_2 (Dense)              (None, 400)               200400    \n",
      "_________________________________________________________________\n",
      "dropout_2 (Dropout)          (None, 400)               0         \n",
      "_________________________________________________________________\n",
      "dense_3 (Dense)              (None, 100)               40100     \n",
      "_________________________________________________________________\n",
      "dropout_3 (Dropout)          (None, 100)               0         \n",
      "_________________________________________________________________\n",
      "dense_4 (Dense)              (None, 10)                1010      \n",
      "=================================================================\n",
      "Total params: 634,010\n",
      "Trainable params: 634,010\n",
      "Non-trainable params: 0\n",
      "_________________________________________________________________\n",
      "None\n"
     ]
    }
   ],
   "source": [
    "model = Sequential()\n",
    "model.add(Dense(500, activation='relu', input_shape=(784,)))\n",
    "# model.add(Activation('relu'))\n",
    "model.add(Dropout(0.15))\n",
    "model.add(Dense(400, activation='sigmoid'))\n",
    "model.add(Dropout(0.2))\n",
    "model.add(Dense(100, activation='sigmoid'))\n",
    "model.add(Dropout(0.2))\n",
    "\n",
    "# model.add(Activation('sigmoid'))\n",
    "# model.add(Dense(10, activation='linear'))\n",
    "\n",
    "model.add(Dense(num, activation='softmax'))\n",
    "\n",
    "for l in model.layers:\n",
    "    print (l.name, l.input_shape,'==>',l.output_shape)\n",
    "print (model.summary())"
   ]
  },
  {
   "cell_type": "code",
   "execution_count": 7,
   "metadata": {},
   "outputs": [
    {
     "name": "stdout",
     "output_type": "stream",
     "text": [
      "Train on 60000 samples, validate on 10000 samples\n",
      "Epoch 1/6\n",
      "60000/60000 [==============================] - 13s 208us/step - loss: 0.0145 - accuracy: 0.9048 - val_loss: 0.0071 - val_accuracy: 0.9529\n",
      "Epoch 2/6\n",
      "60000/60000 [==============================] - 12s 196us/step - loss: 0.0061 - accuracy: 0.9610 - val_loss: 0.0048 - val_accuracy: 0.9692\n",
      "Epoch 3/6\n",
      "60000/60000 [==============================] - 12s 203us/step - loss: 0.0046 - accuracy: 0.9712 - val_loss: 0.0043 - val_accuracy: 0.9721\n",
      "Epoch 4/6\n",
      "60000/60000 [==============================] - 13s 217us/step - loss: 0.0037 - accuracy: 0.9762 - val_loss: 0.0039 - val_accuracy: 0.9759\n",
      "Epoch 5/6\n",
      "60000/60000 [==============================] - 12s 205us/step - loss: 0.0032 - accuracy: 0.9800 - val_loss: 0.0034 - val_accuracy: 0.9783\n",
      "Epoch 6/6\n",
      "60000/60000 [==============================] - 12s 203us/step - loss: 0.0027 - accuracy: 0.9823 - val_loss: 0.0033 - val_accuracy: 0.9791\n",
      "10000/10000 [==============================] - 1s 69us/step\n",
      "Test loss: 0.003\n",
      "Test accuracy: 0.979\n"
     ]
    },
    {
     "data": {
      "text/plain": [
       "<matplotlib.legend.Legend at 0x1aaa94be780>"
      ]
     },
     "execution_count": 7,
     "metadata": {},
     "output_type": "execute_result"
    },
    {
     "data": {
      "image/png": "[encoded data removed]",
      "text/plain": [
       "<Figure size 432x288 with 1 Axes>"
      ]
     },
     "metadata": {
      "needs_background": "light"
     },
     "output_type": "display_data"
    }
   ],
   "source": [
    "model.compile(loss='mean_squared_error', \n",
    "              optimizer=RMSprop(), metrics=['accuracy'])\n",
    "    \n",
    "history = model.fit(x_train, y_train, batch_size=batch_size, epochs=epochs, \n",
    "                    verbose=1, validation_data=(x_test, y_test))\n",
    "\n",
    "score = model.evaluate(x_test, y_test, verbose=1)\n",
    "\n",
    "print ('Test loss:', round(score[0], 3))\n",
    "print ('Test accuracy:', round(score[1], 3))\n",
    "plt.plot(history.history['val_loss'])\n",
    "plt.plot(history.history['loss'])\n",
    "plt.title('Loss')\n",
    "plt.ylabel('loss')\n",
    "plt.xlabel('epoch')\n",
    "plt.legend(['Training', 'Test'], loc= 'upper right')"
   ]
  },
  {
   "cell_type": "code",
   "execution_count": null,
   "metadata": {},
   "outputs": [],
   "source": []
  }
 ],
 "metadata": {
  "kernelspec": {
   "display_name": "Python 3",
   "language": "python",
   "name": "python3"
  },
  "language_info": {
   "codemirror_mode": {
    "name": "ipython",
    "version": 3
   },
   "file_extension": ".py",
   "mimetype": "text/x-python",
   "name": "python",
   "nbconvert_exporter": "python",
   "pygments_lexer": "ipython3",
   "version": "3.7.3"
  }
 },
 "nbformat": 4,
 "nbformat_minor": 4
}
