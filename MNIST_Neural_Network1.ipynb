{
 "cells": [
  {
   "cell_type": "code",
   "execution_count": 189,
   "metadata": {},
   "outputs": [],
   "source": [
    "%matplotlib inline\n",
    "from time import time, sleep\n",
    "import numpy as np\n",
    "from mlxtend.data import loadlocal_mnist\n",
    "import matplotlib.pyplot as plt\n",
    "\n",
    "from IPython import display"
   ]
  },
  {
   "cell_type": "code",
   "execution_count": 190,
   "metadata": {},
   "outputs": [],
   "source": [
    "\n",
    "# load layers, activation function, dropout\n",
    "%run homework_modules.ipynb"
   ]
  },
  {
   "cell_type": "code",
   "execution_count": 191,
   "metadata": {},
   "outputs": [],
   "source": [
    "def sgd_momentum(x, dx, config, state):\n",
    "    \"\"\"\n",
    "        This is a very ugly implementation of sgd with momentum \n",
    "        just to show an example how to store old grad in state.\n",
    "        \n",
    "        config:\n",
    "            - momentum\n",
    "            - learning_rate\n",
    "        state:\n",
    "            - old_grad\n",
    "    \"\"\"\n",
    "    \n",
    "    # x and dx have complex structure, old dx will be stored in a simpler one\n",
    "    state.setdefault('old_grad', {})\n",
    "    \n",
    "    i = 0 \n",
    "    for cur_layer_x, cur_layer_dx in zip(x,dx): \n",
    "        for cur_x, cur_dx in zip(cur_layer_x,cur_layer_dx):\n",
    "            \n",
    "            cur_old_grad = state['old_grad'].setdefault(i, np.zeros_like(cur_dx))\n",
    "            \n",
    "            np.add(config['momentum'] * cur_old_grad, config['learning_rate'] * cur_dx, out = cur_old_grad)\n",
    "            \n",
    "            cur_x -= cur_old_grad\n",
    "            i += 1"
   ]
  },
  {
   "cell_type": "code",
   "execution_count": 192,
   "metadata": {},
   "outputs": [],
   "source": [
    "import keras\n",
    "from keras.datasets import mnist"
   ]
  },
  {
   "cell_type": "code",
   "execution_count": 193,
   "metadata": {},
   "outputs": [
    {
     "name": "stdout",
     "output_type": "stream",
     "text": [
      "Training size: 60000\n",
      "Test size: 10000\n"
     ]
    }
   ],
   "source": [
    "(x_train, target_train), (x_test, target_test) = mnist.load_data()\n",
    "\n",
    "\n",
    "x_train = x_train.reshape(60000, 784)\n",
    "x_test = x_test.reshape(10000, 784)\n",
    "x_train = x_train.astype('float32')\n",
    "x_test = x_test.astype('float32')\n",
    "x_train /= 255\n",
    "x_test /= 255\n",
    "y_train = keras.utils.to_categorical(target_train, 10)\n",
    "y_test = keras.utils.to_categorical(target_test, 10)\n",
    "\n",
    "num = 10\n",
    "\n",
    "print ('Training size:', x_train.shape[0])\n",
    "print ('Test size:', x_test.shape[0])"
   ]
  },
  {
   "cell_type": "code",
   "execution_count": 194,
   "metadata": {},
   "outputs": [
    {
     "data": {
      "image/png": "[encoded data removed]",
      "text/plain": [
       "<Figure size 1440x1080 with 5 Axes>"
      ]
     },
     "metadata": {
      "needs_background": "light"
     },
     "output_type": "display_data"
    }
   ],
   "source": [
    "fig, axes = plt.subplots(1, 5, figsize=(20,15))\n",
    "axes = axes.flatten()\n",
    "for img, ax in zip(x_train[:5].reshape((-1,28,28)), axes):\n",
    "    ax.imshow(img, cmap=\"Greys\")\n",
    "plt.tight_layout()\n",
    "plt.show()"
   ]
  },
  {
   "cell_type": "code",
   "execution_count": 195,
   "metadata": {},
   "outputs": [
    {
     "name": "stdout",
     "output_type": "stream",
     "text": [
      "Linear 784 -> 500\n",
      "ReLU\n",
      "Dropout\n",
      "Linear 500 -> 100\n",
      "Sigmoid\n",
      "Dropout\n",
      "Linear 100 -> 10\n",
      "SoftMax\n",
      "\n"
     ]
    }
   ],
   "source": [
    "# build neural network\n",
    "# neural_model = Sequential()\n",
    "# neural_model.add(Linear(x_train.shape[1], 400))\n",
    "# neural_model.add(ReLU())\n",
    "# neural_model.add(Dropout(0.8))\n",
    "# neural_model.add(Linear(400, 100))\n",
    "# neural_model.add(Sigmoid())\n",
    "# neural_model.add(Linear(100, 10))\n",
    "# neural_model.add(SoftMax())\n",
    "\n",
    "# crit = MSECriterion()\n",
    "\n",
    "# print(neural_model)\n",
    "\n",
    "neural_model = Sequential()\n",
    "neural_model.add(Linear(x_train.shape[1], 500))\n",
    "neural_model.add(ReLU())\n",
    "neural_model.add(Dropout(0.6))\n",
    "neural_model.add(Linear(500, 100))\n",
    "neural_model.add(Sigmoid())\n",
    "neural_model.add(Dropout(0.5))\n",
    "neural_model.add(Linear(100, num))\n",
    "neural_model.add(SoftMax())\n",
    "\n",
    "crit = MSECriterion()\n",
    "\n",
    "print(neural_model)"
   ]
  },
  {
   "cell_type": "code",
   "execution_count": 196,
   "metadata": {},
   "outputs": [],
   "source": [
    "# Optimizer params\n",
    "optimizer_config = {'learning_rate' : 1e-1, 'momentum': 0.9}\n",
    "optimizer_state = {}\n",
    "\n",
    "# Looping params\n",
    "n_epoch = 10\n",
    "batch_size = 100"
   ]
  },
  {
   "cell_type": "code",
   "execution_count": 197,
   "metadata": {},
   "outputs": [],
   "source": [
    "# batch generator\n",
    "def get_batches(dataset, batch_size):\n",
    "    X, Y = dataset\n",
    "    n_samples = X.shape[0]\n",
    "        \n",
    "    # Shuffle at the start of epoch\n",
    "    indices = np.arange(n_samples)\n",
    "    np.random.shuffle(indices)\n",
    "    \n",
    "    for start in range(0, n_samples, batch_size):\n",
    "        end = min(start + batch_size, n_samples)\n",
    "        \n",
    "        batch_idx = indices[start:end]\n",
    "    \n",
    "        yield X[batch_idx], Y[batch_idx]"
   ]
  },
  {
   "cell_type": "code",
   "execution_count": 198,
   "metadata": {},
   "outputs": [
    {
     "name": "stdout",
     "output_type": "stream",
     "text": [
      "Epoch: 0.000000\n",
      "Train loss: 0.316459\n",
      "Test loss: 0.302507\n",
      "Test accuracy: 80.060000\n",
      "Epoch: 1.000000\n",
      "Train loss: 0.225012\n",
      "Test loss: 0.208821\n",
      "Test accuracy: 83.490000\n",
      "Epoch: 2.000000\n",
      "Train loss: 0.150544\n",
      "Test loss: 0.166601\n",
      "Test accuracy: 90.260000\n",
      "Epoch: 3.000000\n",
      "Train loss: 0.148881\n",
      "Test loss: 0.161100\n",
      "Test accuracy: 90.870000\n",
      "Epoch: 4.000000\n",
      "Train loss: 0.078389\n",
      "Test loss: 0.169475\n",
      "Test accuracy: 89.170000\n",
      "Epoch: 5.000000\n",
      "Train loss: 0.137435\n",
      "Test loss: 0.118140\n",
      "Test accuracy: 92.420000\n",
      "Epoch: 6.000000\n",
      "Train loss: 0.033583\n",
      "Test loss: 0.105474\n",
      "Test accuracy: 93.380000\n",
      "Epoch: 7.000000\n",
      "Train loss: 0.098532\n",
      "Test loss: 0.077367\n",
      "Test accuracy: 95.080000\n",
      "Epoch: 8.000000\n",
      "Train loss: 0.027869\n",
      "Test loss: 0.090010\n",
      "Test accuracy: 94.570000\n",
      "Epoch: 9.000000\n",
      "Train loss: 0.053571\n",
      "Test loss: 0.081837\n",
      "Test accuracy: 94.830000\n"
     ]
    }
   ],
   "source": [
    "train_loss_history = []\n",
    "test_loss_history = []\n",
    "\n",
    "for i in range(n_epoch):\n",
    "    for x_batch, y_batch in get_batches((x_train, y_train), batch_size):\n",
    "        \n",
    "        neural_model.zeroGradParameters()\n",
    "        \n",
    "        # Forward\n",
    "        predictions = neural_model.forward(x_batch)\n",
    "        loss = crit.forward(predictions, y_batch)\n",
    "    \n",
    "        # Backward\n",
    "        dp = crit.backward(predictions, y_batch)\n",
    "        neural_model.backward(x_batch, dp)\n",
    "        \n",
    "        # Update weights\n",
    "        sgd_momentum(neural_model.getParameters(), \n",
    "                     neural_model.getGradParameters(), \n",
    "                     optimizer_config,\n",
    "                     optimizer_state)      \n",
    "        \n",
    "        train_loss_history.append(loss)\n",
    "    \n",
    "    # Test\n",
    "    test_pred = neural_model.forward(x_test)\n",
    "    test_loss = crit.forward(test_pred, y_test)\n",
    "    test_loss_history.append(test_loss)\n",
    "    \n",
    "    # Accuracy\n",
    "    hits = 0\n",
    "    for prediction, label in zip(test_pred, target_test):\n",
    "        if np.argmax(prediction) == label:\n",
    "            hits += 1\n",
    "    test_accuracy = hits / len(target_test) * 100\n",
    "    epoch_time = np.arange(0, len(train_loss_history), dtype=float) / (y_train.shape[0] // batch_size)\n",
    "    \n",
    "    print('Epoch: %f' % i)\n",
    "    print('Train loss: %f' % loss)\n",
    "    print('Test loss: %f' % test_loss)\n",
    "    print('Test accuracy: %f' % test_accuracy)"
   ]
  },
  {
   "cell_type": "code",
   "execution_count": 199,
   "metadata": {},
   "outputs": [
    {
     "name": "stdout",
     "output_type": "stream",
     "text": [
      "Current train loss: 0.053571\n",
      "Current test loss: 0.081837\n",
      "Current test accuracy: 94.830000\n"
     ]
    },
    {
     "data": {
      "image/png": "[encoded data removed]",
      "text/plain": [
       "<Figure size 432x288 with 1 Axes>"
      ]
     },
     "metadata": {
      "needs_background": "light"
     },
     "output_type": "display_data"
    }
   ],
   "source": [
    "# Visualize\n",
    "\n",
    "plt.plot(epoch_time, train_loss_history)\n",
    "plt.plot(test_loss_history)\n",
    "\n",
    "plt.title('Training loss')\n",
    "plt.ylabel('loss')\n",
    "plt.xlabel('epoch')\n",
    "plt.legend(['Test','Training'], loc= 'upper right')\n",
    "\n",
    "print('Current train loss: %f' % loss)\n",
    "print('Current test loss: %f' % test_loss)\n",
    "print('Current test accuracy: %f' % test_accuracy)"
   ]
  },
  {
   "cell_type": "code",
   "execution_count": null,
   "metadata": {},
   "outputs": [],
   "source": []
  }
 ],
 "metadata": {
  "kernelspec": {
   "display_name": "Python 3",
   "language": "python",
   "name": "python3"
  },
  "language_info": {
   "codemirror_mode": {
    "name": "ipython",
    "version": 3
   },
   "file_extension": ".py",
   "mimetype": "text/x-python",
   "name": "python",
   "nbconvert_exporter": "python",
   "pygments_lexer": "ipython3",
   "version": "3.7.3"
  }
 },
 "nbformat": 4,
 "nbformat_minor": 4
}
